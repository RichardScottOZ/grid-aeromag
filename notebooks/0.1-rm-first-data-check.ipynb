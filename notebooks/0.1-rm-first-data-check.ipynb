{
 "cells": [
  {
   "cell_type": "markdown",
   "metadata": {},
   "source": [
    "# Checking the data\n",
    "## List raw data contents"
   ]
  },
  {
   "cell_type": "code",
   "execution_count": 1,
   "metadata": {},
   "outputs": [],
   "source": [
    "import zipfile"
   ]
  },
  {
   "cell_type": "code",
   "execution_count": 2,
   "metadata": {},
   "outputs": [],
   "source": [
    "data = zipfile.ZipFile(r'data/raw/1113_XYZ.zip', 'r')"
   ]
  },
  {
   "cell_type": "code",
   "execution_count": 3,
   "metadata": {},
   "outputs": [
    {
     "name": "stdout",
     "output_type": "stream",
     "text": [
      "File Name                                             Modified             Size\n",
      "1113 - Relatorio Final - Sudeste do Mato Grosso.pdf 2012-09-17 16:05:48     14754917\n",
      "XYZ/1113_Cruzamentos.XYZ                       2012-07-17 09:36:16     10177163\n",
      "XYZ/1113_GamaLine.XYZ                          2012-07-04 16:42:34    859936849\n",
      "XYZ/1113_GamaTie.XYZ                           2012-07-04 16:35:02     45060637\n",
      "XYZ/1113_MagLine.XYZ                           2012-07-05 11:14:22   6079955329\n",
      "XYZ/1113_MagTie.XYZ                            2012-07-05 11:00:58    318605838\n",
      "XYZ/                                           2013-02-15 14:57:30            0\n"
     ]
    }
   ],
   "source": [
    "data.printdir()"
   ]
  },
  {
   "cell_type": "markdown",
   "metadata": {},
   "source": [
    "We're interested in XYZ/1113_MagLine.XYZ and XYZ/1113_MagTie.XYZ files. These seem to be raw and processed aeromag data exported from two Geosoft's Oasis montaj database files.\n",
    "\n",
    "If you can read brazilian portuguese, one interesting file to check is \"1113 - Relatorio Final - Sudeste do Mato Grosso.pdf\", since it's the final processing report."
   ]
  },
  {
   "cell_type": "markdown",
   "metadata": {},
   "source": [
    "## Checking the file headers\n",
    "Now we're going to list both files header to get a feel of the file format."
   ]
  },
  {
   "cell_type": "code",
   "execution_count": 4,
   "metadata": {},
   "outputs": [
    {
     "name": "stdout",
     "output_type": "stream",
     "text": [
      "/ ------------------------------------------------------------------------------\r\n",
      "\n",
      "/ XYZ EXPORT [07/05/2012]\r\n",
      "\n",
      "/ DATABASE   [.\\Disco\\GDB\\1113_MagLine.gdb]\r\n",
      "\n",
      "/ ------------------------------------------------------------------------------\r\n",
      "\n",
      "/\r\n",
      "\n",
      "/         X          Y FIDUCIAL   GPSALT     BARO   ALTURA      MDT    MAGBASE     MAGBRU     MAGCOM     MAGCOR     MAGNIV     MAGMIC    MAGIGRF       IGRF   LONGITUDE    LATITUDE       DATA       HORA \r\n",
      "\n",
      "/========== ========== ======== ======== ======== ======== ======== ========== ========== ========== ========== ========== ========== ========== ========== =========== =========== ========== ========== \r\n",
      "\n",
      "/\r\n",
      "\n",
      "//Flight 307\r\n",
      "\n",
      "//Date 2011/08/07\r\n",
      "\n",
      "Line  10010\r\n",
      "\n",
      "    174673    8506596  10916.0   554.12   482.93    80.54   481.06  23354.887  23800.096  23799.297  23804.534  23804.655  23804.728    127.477  23677.251  -54.004809  -13.490805 2011/08/07 14:15:28.0 \r\n",
      "\n",
      "    174673    8506589  10916.1   554.29   483.10    81.02   481.00  23354.887  23800.104  23799.327  23804.595  23804.716  23804.792    127.551  23677.240  -54.004807  -13.490866 2011/08/07 14:15:28.1 \r\n",
      "\n",
      "    174673    8506582  10916.2   554.45   483.28    81.20   480.94  23354.888  23800.140  23799.369  23804.663  23804.783  23804.863    127.633  23677.230  -54.004805  -13.490926 2011/08/07 14:15:28.2 \r\n",
      "\n",
      "    174674    8506575  10916.3   554.62   483.46    81.21   480.88  23354.888  23800.203  23799.421  23804.735  23804.855  23804.938    127.718  23677.220  -54.004803  -13.490987 2011/08/07 14:15:28.3 \r\n",
      "\n"
     ]
    }
   ],
   "source": [
    "n = 15 # number of lines to read\n",
    "\n",
    "with data.open('XYZ/1113_MagLine.XYZ') as f:\n",
    "    head = [next(f) for x in range(n)]\n",
    "\n",
    "# Decode the bytes object into a string object\n",
    "head = [line.decode(\"utf-8\") for line in head]\n",
    "\n",
    "print('\\n'.join(head))"
   ]
  },
  {
   "cell_type": "code",
   "execution_count": 5,
   "metadata": {},
   "outputs": [
    {
     "name": "stdout",
     "output_type": "stream",
     "text": [
      "/ ------------------------------------------------------------------------------\r\n",
      "\n",
      "/ XYZ EXPORT [07/05/2012]\r\n",
      "\n",
      "/ DATABASE   [.\\Disco\\GDB\\1113_MagTie.gdb]\r\n",
      "\n",
      "/ ------------------------------------------------------------------------------\r\n",
      "\n",
      "/\r\n",
      "\n",
      "/         X          Y FIDUCIAL   GPSALT     BARO   ALTURA      MDT    MAGBASE     MAGBRU     MAGCOM     MAGCOR     MAGNIV     MAGMIC    MAGIGRF       IGRF   LONGITUDE    LATITUDE       DATA       HORA \r\n",
      "\n",
      "/========== ========== ======== ======== ======== ======== ======== ========== ========== ========== ========== ========== ========== ========== ========== =========== =========== ========== ========== \r\n",
      "\n",
      "/\r\n",
      "\n",
      "//Flight 5\r\n",
      "\n",
      "//Date 2011/07/30\r\n",
      "\n",
      "Tie  19010\r\n",
      "\n",
      "    607843    8232313   7182.0   839.98   804.58    81.05   757.36  23411.514  23476.831          *  23427.814  23430.721  23433.095     10.258  23422.837  -49.992151  -15.986348 2011/07/30 14:48:29.0 \r\n",
      "\n",
      "    607837    8232313   7182.1   840.14   804.64    81.16   757.56  23411.513  23477.055  23478.765  23428.124  23431.028  23433.402     10.568  23422.834  -49.992210  -15.986348 2011/07/30 14:48:29.1 \r\n",
      "\n",
      "    607831    8232313   7182.2   840.31   804.73    81.06   757.75  23411.513  23477.299  23479.037  23428.451  23431.351  23433.726     10.894  23422.832  -49.992270  -15.986349 2011/07/30 14:48:29.2 \r\n",
      "\n",
      "    607824    8232313   7182.3   840.47   804.86    81.03   757.95  23411.512  23477.563  23479.328  23428.795  23431.692  23434.066     11.237  23422.829  -49.992329  -15.986349 2011/07/30 14:48:29.3 \r\n",
      "\n"
     ]
    }
   ],
   "source": [
    "with data.open('XYZ/1113_MagTie.XYZ') as f:\n",
    "    head = [next(f) for x in range(n)]\n",
    "\n",
    "# Decode the bytes object into a string object\n",
    "head = [line.decode(\"utf-8\") for line in head]\n",
    "\n",
    "print('\\n'.join(head))"
   ]
  },
  {
   "cell_type": "code",
   "execution_count": 6,
   "metadata": {},
   "outputs": [],
   "source": [
    "data.close()"
   ]
  }
 ],
 "metadata": {
  "kernelspec": {
   "display_name": "Python 3",
   "language": "python",
   "name": "python3"
  },
  "language_info": {
   "codemirror_mode": {
    "name": "ipython",
    "version": 3
   },
   "file_extension": ".py",
   "mimetype": "text/x-python",
   "name": "python",
   "nbconvert_exporter": "python",
   "pygments_lexer": "ipython3",
   "version": "3.7.3"
  }
 },
 "nbformat": 4,
 "nbformat_minor": 2
}
