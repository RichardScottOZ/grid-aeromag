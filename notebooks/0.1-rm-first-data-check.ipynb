{
 "cells": [
  {
   "cell_type": "markdown",
   "metadata": {},
   "source": [
    "# Checking the data\n",
    "## List raw data contents"
   ]
  },
  {
   "cell_type": "code",
   "execution_count": null,
   "metadata": {},
   "outputs": [],
   "source": [
    "import zipfile"
   ]
  },
  {
   "cell_type": "code",
   "execution_count": null,
   "metadata": {},
   "outputs": [],
   "source": [
    "data = zipfile.ZipFile(r'../data/raw/1113_XYZ.zip', 'r')"
   ]
  },
  {
   "cell_type": "code",
   "execution_count": null,
   "metadata": {},
   "outputs": [],
   "source": [
    "data.printdir()"
   ]
  },
  {
   "cell_type": "markdown",
   "metadata": {},
   "source": [
    "We're interested in XYZ/1113_MagLine.XYZ and XYZ/1113_MagTie.XYZ files. These seem to be raw and processed aeromag data exported from two Geosoft's Oasis montaj database files.\n",
    "\n",
    "If you can read brazilian portuguese, one interesting file to check is \"1113 - Relatorio Final - Sudeste do Mato Grosso.pdf\", since it's the final processing report."
   ]
  },
  {
   "cell_type": "markdown",
   "metadata": {},
   "source": [
    "## Checking the file headers\n",
    "Now we're going to list both files header to get a feel of the file format."
   ]
  },
  {
   "cell_type": "code",
   "execution_count": null,
   "metadata": {},
   "outputs": [],
   "source": [
    "n = 15 # number of lines to read\n",
    "\n",
    "with data.open('XYZ/1113_MagLine.XYZ') as f:\n",
    "    head = [next(f) for x in range(n)]\n",
    "\n",
    "# Decode the bytes object into a string object\n",
    "head = [line.decode(\"utf-8\") for line in head]\n",
    "\n",
    "print('\\n'.join(head))"
   ]
  },
  {
   "cell_type": "code",
   "execution_count": null,
   "metadata": {},
   "outputs": [],
   "source": [
    "with data.open('XYZ/1113_MagTie.XYZ') as f:\n",
    "    head = [next(f) for x in range(n)]\n",
    "\n",
    "# Decode the bytes object into a string object\n",
    "head = [line.decode(\"utf-8\") for line in head]\n",
    "\n",
    "print('\\n'.join(head))"
   ]
  },
  {
   "cell_type": "markdown",
   "metadata": {},
   "source": [
    "## Plotting flight lines and tie lines\n",
    "\n",
    "Now the file structure is clear. Both files are divided in flight lines (Tie # and Line #), with every line containing the same fields described in the header.\n",
    "\n",
    "These files are way too big to read directly with Pandas, because [pandas.read_csv](https://pandas.pydata.org/pandas-docs/stable/reference/api/pandas.read_csv.html) has a memory peak several times bigger than the file size. This is due to format checking etc.\n",
    "\n",
    "So, first we'll write a small function read the data by lines, since numpy.genfromtxt has the [same problem](https://stackoverflow.com/questions/8956832/python-out-of-memory-on-large-csv-file-numpy) of pandas.read_csv. Next we'll plot a simplified version of the flight lines. This simplification is required since the lines have way too many points each."
   ]
  },
  {
   "cell_type": "code",
   "execution_count": null,
   "metadata": {},
   "outputs": [],
   "source": [
    "import numpy as np\n",
    "from shapely.geometry import LineString"
   ]
  },
  {
   "cell_type": "code",
   "execution_count": null,
   "metadata": {},
   "outputs": [],
   "source": [
    "import matplotlib.pyplot as plt\n",
    "import seaborn as sns\n",
    "%matplotlib inline\n",
    "sns.set_style('ticks')"
   ]
  },
  {
   "cell_type": "code",
   "execution_count": null,
   "metadata": {},
   "outputs": [],
   "source": [
    "def iter_func(data, filename, comment='/'):\n",
    "    # dictionary with line_number: LineString\n",
    "    flight_lines = {}\n",
    "    \n",
    "    with data.open(filename) as f:\n",
    "        line_number = None\n",
    "        x = []\n",
    "        y = []\n",
    "        for line in f:\n",
    "            line = line.decode(\"utf-8\")\n",
    "            \n",
    "            if line.startswith(comment):\n",
    "                continue\n",
    "            \n",
    "            # Get the line number\n",
    "            if 'Tie' in line or 'Line' in line:\n",
    "                if line_number is not None:\n",
    "                    # This happens when we enter a new line\n",
    "                    # I'm using a tolerance of 100 m to simplify the line path\n",
    "                    flight_lines[line_number] = LineString(np.vstack((x,y)).T).simplify(tolerance=100)\n",
    "                    x = []\n",
    "                    y = []\n",
    "                    \n",
    "                line_number = np.int(line.strip().split()[1])\n",
    "                continue\n",
    "                \n",
    "            # Split the line using \\s+ as the pattern and get only X and Y\n",
    "            line = line.strip().split()[:2]\n",
    "            x.append(np.float(line[0]))\n",
    "            y.append(np.float(line[1]))\n",
    "            \n",
    "        return flight_lines"
   ]
  },
  {
   "cell_type": "code",
   "execution_count": null,
   "metadata": {},
   "outputs": [],
   "source": [
    "%%time\n",
    "# These files are quite big, so they may take a couple minutes to read.\n",
    "\n",
    "tie_lines =  iter_func(data, 'XYZ/1113_MagTie.XYZ')\n",
    "flight_lines =  iter_func(data, 'XYZ/1113_MagLine.XYZ')"
   ]
  },
  {
   "cell_type": "code",
   "execution_count": null,
   "metadata": {},
   "outputs": [],
   "source": [
    "plt.figure(figsize=(10,8))\n",
    "for l in tie_lines:\n",
    "    x,y = tie_lines[l].xy\n",
    "    plt.plot(x,y, 'k', lw=0.5)\n",
    "    \n",
    "for l in flight_lines:\n",
    "    x,y = flight_lines[l].xy\n",
    "    plt.plot(x,y, 'k', lw=0.5)\n",
    "\n",
    "plt.axes().set_aspect('equal', 'datalim')\n",
    "plt.title('Flight lines and Tie lines')\n",
    "plt.xlabel('easting (m)')\n",
    "plt.ylabel('northing (m)')\n",
    "plt.tight_layout()\n",
    "\n",
    "plt.savefig('../reports/lines_geometry.png', dpi=300)\n",
    "plt.show()\n",
    "plt.close();"
   ]
  },
  {
   "cell_type": "markdown",
   "metadata": {},
   "source": [
    "Figure 1 - Flight and Tie lines for the aeromagnetometric survey. Projection UTM 22S/WGS 84 (EPSG:32722)."
   ]
  },
  {
   "cell_type": "code",
   "execution_count": null,
   "metadata": {},
   "outputs": [],
   "source": [
    "data.close()"
   ]
  },
  {
   "cell_type": "markdown",
   "metadata": {},
   "source": [
    "## Writing a shapefile with the geometry"
   ]
  },
  {
   "cell_type": "code",
   "execution_count": null,
   "metadata": {},
   "outputs": [],
   "source": [
    "from shapely.geometry import mapping, shape\n",
    "import fiona\n",
    "from fiona.crs import from_epsg"
   ]
  },
  {
   "cell_type": "code",
   "execution_count": null,
   "metadata": {},
   "outputs": [],
   "source": [
    "schema = {\n",
    "    'geometry': 'LineString', \n",
    "    'properties': {'Tie' : 'int'} # Tie line number\n",
    "}\n",
    "\n",
    "# Writing Tie lines shapefile\n",
    "with fiona.open('../data/processed/tie_geometry.shp', 'w', crs=from_epsg(32722),\n",
    "                driver='ESRI Shapefile', schema=schema) as output:\n",
    "    for l in tie_lines:\n",
    "        prop = {'Tie' : l}\n",
    "        output.write({'geometry': mapping(tie_lines[l]), 'properties': prop})"
   ]
  },
  {
   "cell_type": "code",
   "execution_count": null,
   "metadata": {},
   "outputs": [],
   "source": [
    "schema = {\n",
    "    'geometry': 'LineString', \n",
    "    'properties': {'Line' : 'int'} # Tie line number\n",
    "}\n",
    "\n",
    "# Writing Line lines shapefile, a.k.a aquisition lines\n",
    "with fiona.open('../data/processed/line_geometry.shp', 'w', crs=from_epsg(32722),\n",
    "                driver='ESRI Shapefile', schema=schema) as output:\n",
    "    for l in flight_lines:\n",
    "        prop = {'Line' : l}\n",
    "        output.write({'geometry': mapping(flight_lines[l]), 'properties': prop})"
   ]
  }
 ],
 "metadata": {
  "kernelspec": {
   "display_name": "Python 3",
   "language": "python",
   "name": "python3"
  },
  "language_info": {
   "codemirror_mode": {
    "name": "ipython",
    "version": 3
   },
   "file_extension": ".py",
   "mimetype": "text/x-python",
   "name": "python",
   "nbconvert_exporter": "python",
   "pygments_lexer": "ipython3",
   "version": "3.7.3"
  }
 },
 "nbformat": 4,
 "nbformat_minor": 2
}
