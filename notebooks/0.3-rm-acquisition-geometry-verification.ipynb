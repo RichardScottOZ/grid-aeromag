{
 "cells": [
  {
   "cell_type": "code",
   "execution_count": null,
   "metadata": {},
   "outputs": [],
   "source": [
    "import fiona\n",
    "import numpy as np"
   ]
  },
  {
   "cell_type": "code",
   "execution_count": null,
   "metadata": {},
   "outputs": [],
   "source": [
    "import matplotlib.pyplot as plt\n",
    "import seaborn as sns\n",
    "%matplotlib inline\n",
    "sns.set_style('ticks')"
   ]
  },
  {
   "cell_type": "markdown",
   "metadata": {},
   "source": [
    "## Checking if there is no collisions between fligh and tie lines numbers"
   ]
  },
  {
   "cell_type": "code",
   "execution_count": null,
   "metadata": {},
   "outputs": [],
   "source": [
    "line = []\n",
    "\n",
    "with fiona.open('../data/processed/line_geometry.shp', 'r') as f:\n",
    "    line = [feature['properties']['Line']for feature in f]"
   ]
  },
  {
   "cell_type": "code",
   "execution_count": null,
   "metadata": {},
   "outputs": [],
   "source": [
    "tie = []\n",
    "\n",
    "with fiona.open('../data/processed/tie_geometry.shp', 'r') as f:\n",
    "    tie = [feature['properties']['Tie']for feature in f]"
   ]
  },
  {
   "cell_type": "code",
   "execution_count": null,
   "metadata": {},
   "outputs": [],
   "source": [
    "# Checking if flight line numbers are unique\n",
    "assert len(line) == len(set(line))"
   ]
  },
  {
   "cell_type": "code",
   "execution_count": null,
   "metadata": {},
   "outputs": [],
   "source": [
    "# Checking if tie line numbers are unique\n",
    "assert len(tie) == len(set(tie))"
   ]
  },
  {
   "cell_type": "code",
   "execution_count": null,
   "metadata": {},
   "outputs": [],
   "source": [
    "line = set(line)\n",
    "tie = set(tie)"
   ]
  },
  {
   "cell_type": "code",
   "execution_count": null,
   "metadata": {},
   "outputs": [],
   "source": [
    "# Checking if there are no collisions no tie and flight lines numbers\n",
    "assert len(line.intersection(tie)) == 0"
   ]
  },
  {
   "cell_type": "code",
   "execution_count": null,
   "metadata": {},
   "outputs": [],
   "source": [
    "line = np.array(list(line))\n",
    "tie = np.array(list(tie))\n",
    "line.sort()\n",
    "tie.sort()"
   ]
  },
  {
   "cell_type": "code",
   "execution_count": null,
   "metadata": {},
   "outputs": [],
   "source": [
    "plt.plot(line, '.', label='Line')\n",
    "\n",
    "x = np.arange(len(line) + len(tie))\n",
    "y = np.append(n)\n",
    "plt.plot(tie, '.', label='Tie')\n",
    "plt.xlabel('Sequential number')\n",
    "plt.ylabel('Field number')\n",
    "plt.legend(loc='best')\n",
    "sns.despine(offset=5)"
   ]
  }
 ],
 "metadata": {
  "kernelspec": {
   "display_name": "Python 3",
   "language": "python",
   "name": "python3"
  },
  "language_info": {
   "codemirror_mode": {
    "name": "ipython",
    "version": 3
   },
   "file_extension": ".py",
   "mimetype": "text/x-python",
   "name": "python",
   "nbconvert_exporter": "python",
   "pygments_lexer": "ipython3",
   "version": "3.7.3"
  }
 },
 "nbformat": 4,
 "nbformat_minor": 2
}
