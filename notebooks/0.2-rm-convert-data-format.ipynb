{
 "cells": [
  {
   "cell_type": "markdown",
   "metadata": {},
   "source": [
    "# Reading the magnetic anomaly data\n",
    "We want to read the MAGIGRF column, which contains the IGRF reduced micronivelated magnetic field."
   ]
  },
  {
   "cell_type": "code",
   "execution_count": 1,
   "metadata": {},
   "outputs": [],
   "source": [
    "import zipfile"
   ]
  },
  {
   "cell_type": "code",
   "execution_count": 2,
   "metadata": {},
   "outputs": [],
   "source": [
    "data = zipfile.ZipFile(r'../data/raw/1113_XYZ.zip', 'r')"
   ]
  },
  {
   "cell_type": "code",
   "execution_count": 3,
   "metadata": {},
   "outputs": [],
   "source": [
    "import numpy as np"
   ]
  },
  {
   "cell_type": "code",
   "execution_count": 4,
   "metadata": {},
   "outputs": [],
   "source": [
    "#Yield the data reading one line at a time\n",
    "def iter_loadtxt(filename, comment='/'):\n",
    "    def iter_func():\n",
    "        with data.open(filename) as f:\n",
    "            for line in f:\n",
    "                line = line.decode(\"utf-8\")\n",
    "\n",
    "                if line.startswith(comment):\n",
    "                    continue\n",
    "\n",
    "                # Ignore the line number\n",
    "                if 'Tie' in line or 'Line' in line:\n",
    "                    continue\n",
    "\n",
    "                # Split the line using \\s+ as the pattern\n",
    "                line = line.strip().split()\n",
    "                \n",
    "                # Ignore lines without measurements\n",
    "                # '*' is the flag value for bad data\n",
    "                if '*' in line[13]:\n",
    "                    continue\n",
    "\n",
    "                # Get X, Y and MAGIGRF and convert to float\n",
    "                line = [np.float(line[i]) for i in [0,1,13]]\n",
    "                \n",
    "                for item in line:\n",
    "                    yield item\n",
    "  \n",
    "        iter_loadtxt.rowlength = 3\n",
    "\n",
    "    mag = np.fromiter(iter_func(), dtype=np.float)\n",
    "    mag = mag.reshape((-1, iter_loadtxt.rowlength))\n",
    "    return mag"
   ]
  },
  {
   "cell_type": "code",
   "execution_count": 5,
   "metadata": {},
   "outputs": [
    {
     "name": "stdout",
     "output_type": "stream",
     "text": [
      "CPU times: user 3min 14s, sys: 1.81 s, total: 3min 16s\n",
      "Wall time: 3min 18s\n"
     ]
    }
   ],
   "source": [
    "%%time\n",
    "# These files are quite big, so they may take a couple minutes to read.\n",
    "mag =  iter_loadtxt('XYZ/1113_MagTie.XYZ')\n",
    "mag =  np.append(mag, iter_loadtxt('XYZ/1113_MagLine.XYZ'), axis=0)"
   ]
  },
  {
   "cell_type": "code",
   "execution_count": 6,
   "metadata": {},
   "outputs": [
    {
     "data": {
      "text/plain": [
       "array([[6.078430e+05, 8.232313e+06, 1.025800e+01],\n",
       "       [6.078370e+05, 8.232313e+06, 1.056800e+01],\n",
       "       [6.078310e+05, 8.232313e+06, 1.089400e+01],\n",
       "       ...,\n",
       "       [6.091890e+05, 8.506503e+06, 1.440700e+01],\n",
       "       [6.091890e+05, 8.506496e+06, 1.464200e+01],\n",
       "       [6.091890e+05, 8.506490e+06, 1.488400e+01]])"
      ]
     },
     "execution_count": 6,
     "metadata": {},
     "output_type": "execute_result"
    }
   ],
   "source": [
    "# Checking the array\n",
    "mag"
   ]
  },
  {
   "cell_type": "code",
   "execution_count": 7,
   "metadata": {},
   "outputs": [
    {
     "name": "stdout",
     "output_type": "stream",
     "text": [
      "Number of points: 31515249. Size in memory: 756.37 MB\n"
     ]
    }
   ],
   "source": [
    "print('Number of points: {}. Size in memory: {:.2f} MB'.format(mag.shape[0], mag.nbytes/1e6))"
   ]
  },
  {
   "cell_type": "code",
   "execution_count": 8,
   "metadata": {},
   "outputs": [],
   "source": [
    "data.close()"
   ]
  },
  {
   "cell_type": "markdown",
   "metadata": {},
   "source": [
    "## Saving a converted file to disk\n",
    "For simplicity I'll write a interim file using [numpy native format NPY](https://www.numpy.org/devdocs/reference/generated/numpy.lib.format.html)."
   ]
  },
  {
   "cell_type": "code",
   "execution_count": 9,
   "metadata": {},
   "outputs": [],
   "source": [
    "import os"
   ]
  },
  {
   "cell_type": "code",
   "execution_count": 10,
   "metadata": {},
   "outputs": [],
   "source": [
    "# Create output directory if it does not exist\n",
    "directory = '../data/interim/'\n",
    "if not os.path.exists(directory):\n",
    "    os.makedirs(directory)"
   ]
  },
  {
   "cell_type": "code",
   "execution_count": 11,
   "metadata": {},
   "outputs": [],
   "source": [
    "np.save('../data/interim/MAGIGRF.npy', mag)"
   ]
  }
 ],
 "metadata": {
  "kernelspec": {
   "display_name": "Python 3",
   "language": "python",
   "name": "python3"
  },
  "language_info": {
   "codemirror_mode": {
    "name": "ipython",
    "version": 3
   },
   "file_extension": ".py",
   "mimetype": "text/x-python",
   "name": "python",
   "nbconvert_exporter": "python",
   "pygments_lexer": "ipython3",
   "version": "3.7.3"
  }
 },
 "nbformat": 4,
 "nbformat_minor": 2
}
