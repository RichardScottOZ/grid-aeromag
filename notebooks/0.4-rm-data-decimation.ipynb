{
 "cells": [
  {
   "cell_type": "markdown",
   "metadata": {},
   "source": [
    "# Decimate the magnetic anomaly data"
   ]
  },
  {
   "cell_type": "code",
   "execution_count": null,
   "metadata": {},
   "outputs": [],
   "source": [
    "import matplotlib.pyplot as plt\n",
    "import verde as vd\n",
    "%matplotlib inline\n",
    "import seaborn as sns\n",
    "sns.set_style('ticks')\n",
    "\n",
    "import numpy as np"
   ]
  },
  {
   "cell_type": "code",
   "execution_count": null,
   "metadata": {},
   "outputs": [],
   "source": [
    "# Load the data as read only\n",
    "data = np.load('../data/interim/MAGIGRF.npy', mmap_mode='r')"
   ]
  },
  {
   "cell_type": "code",
   "execution_count": null,
   "metadata": {},
   "outputs": [],
   "source": [
    "# Plot the bathymetry data locations as black dots\n",
    "plt.figure(figsize=(10,8))\n",
    "ax = plt.subplot(111)\n",
    "ax.set_title('Original data')\n",
    "ax.plot(data[:,0], data[:,1], 'k.', markersize=0.1)\n",
    "ax.set_aspect('equal', 'datalim')\n",
    "plt.xlabel('easting (m)')\n",
    "plt.ylabel('northing (m)')\n",
    "plt.tight_layout()"
   ]
  },
  {
   "cell_type": "code",
   "execution_count": null,
   "metadata": {},
   "outputs": [],
   "source": [
    "%%time\n",
    "spacing = 150 # meters\n",
    "\n",
    "reducer_center = vd.BlockReduce(\n",
    "    reduction=np.median, spacing=spacing, center_coordinates=True)\n",
    "\n",
    "coordinates_center, mag = reducer_center.filter(\n",
    "    coordinates=(data[:,0], data[:,1]), data=data[:,2])"
   ]
  },
  {
   "cell_type": "code",
   "execution_count": null,
   "metadata": {},
   "outputs": [],
   "source": [
    "plt.figure(figsize=(10,8))\n",
    "ax = plt.subplot(111)\n",
    "ax.set_title('Location of decimated data using block centers')\n",
    "# Plot the bathymetry data locations as black dots\n",
    "ax.plot(*coordinates_center, 'k.', markersize=0.1)\n",
    "ax.set_aspect('equal', 'datalim')\n",
    "plt.xlabel('easting (m)')\n",
    "plt.ylabel('northing (m)')\n",
    "plt.tight_layout()"
   ]
  },
  {
   "cell_type": "code",
   "execution_count": null,
   "metadata": {},
   "outputs": [],
   "source": [
    "data_reduction = (1 - mag.shape[0]/data.shape[0]) * 100\n",
    "print('Data reduction: {:.2f}%'.format(data_reduction))"
   ]
  },
  {
   "cell_type": "code",
   "execution_count": null,
   "metadata": {},
   "outputs": [],
   "source": [
    "filename = '../data/interim/MAGIGRF_DECIMATED_{0}x{0}m.npy'.format(spacing)\n",
    "np.save(filename, np.core.records.fromarrays([*coordinates_center, mag],\n",
    "                           names='x, y, data', formats='f8, f8, f8'))"
   ]
  }
 ],
 "metadata": {
  "kernelspec": {
   "display_name": "Python 3",
   "language": "python",
   "name": "python3"
  },
  "language_info": {
   "codemirror_mode": {
    "name": "ipython",
    "version": 3
   },
   "file_extension": ".py",
   "mimetype": "text/x-python",
   "name": "python",
   "nbconvert_exporter": "python",
   "pygments_lexer": "ipython3",
   "version": "3.7.3"
  }
 },
 "nbformat": 4,
 "nbformat_minor": 2
}
