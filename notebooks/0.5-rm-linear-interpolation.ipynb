{
 "cells": [
  {
   "cell_type": "markdown",
   "metadata": {},
   "source": [
    "# Linear interpolation of magnetic anomaly data\n",
    "\n",
    "I was going to use [Verde spline interpolator](https://www.fatiando.org/verde/latest/gallery/spline.html?highlight=regular), but it gave me a MemoryError. The same happened with most of scipy interpolators, like [interp2d](https://docs.scipy.org/doc/scipy/reference/generated/scipy.interpolate.interp2d.html) and [griddata](https://docs.scipy.org/doc/scipy/reference/generated/scipy.interpolate.griddata.html).\n",
    "\n",
    "Trying to use scipy [generic_filter](https://docs.scipy.org/doc/scipy-0.16.1/reference/generated/scipy.ndimage.filters.generic_filter.html) to interpolate in moving windows with these interpolators was too slow to yield any results.\n",
    "\n",
    "I tested several (maybe all) algorithms and functions available on scipy and other python API. Unfortunately, none of them were able to take advantage of a regular grid with missing values for interpolation.\n",
    "\n",
    "Nevertheless, [LinearNDInterpolator](https://docs.scipy.org/doc/scipy/reference/generated/scipy.interpolate.LinearNDInterpolator.html) from scipy did the job with a good performance."
   ]
  },
  {
   "cell_type": "code",
   "execution_count": null,
   "metadata": {},
   "outputs": [],
   "source": [
    "import matplotlib.pyplot as plt\n",
    "import verde as vd\n",
    "%matplotlib inline\n",
    "import seaborn as sns\n",
    "sns.set_style('ticks')\n",
    "\n",
    "import numpy as np"
   ]
  },
  {
   "cell_type": "code",
   "execution_count": null,
   "metadata": {},
   "outputs": [],
   "source": [
    "# Load the data as read only\n",
    "data = np.load('../data/interim/MAGIGRF_DECIMATED_150x150m.npy', mmap_mode='r')"
   ]
  },
  {
   "cell_type": "markdown",
   "metadata": {},
   "source": [
    "This shall be the final interpolated grid size"
   ]
  },
  {
   "cell_type": "code",
   "execution_count": null,
   "metadata": {},
   "outputs": [],
   "source": [
    "x = np.unique(data['x']) # Grid x coordinates\n",
    "y = np.unique(data['y']) # Grid y coordinates\n",
    "\n",
    "print('Grid size: {0} x {1}'.format(x.shape[0], y.shape[0]))"
   ]
  },
  {
   "cell_type": "code",
   "execution_count": null,
   "metadata": {},
   "outputs": [],
   "source": [
    "# Start with a sample blank image to see where the holes are\n",
    "shape = (x.shape[0], y.shape[0])\n",
    "img = np.full(shape, np.nan)"
   ]
  },
  {
   "cell_type": "code",
   "execution_count": null,
   "metadata": {},
   "outputs": [],
   "source": [
    "# Fill the bins as needed\n",
    "img[np.digitize(data['x'], x) - 1, np.digitize(data['y'], y) - 1] = data['data']"
   ]
  },
  {
   "cell_type": "code",
   "execution_count": null,
   "metadata": {},
   "outputs": [],
   "source": [
    "vmin, vmax = np.percentile(data['data'], [2,98])\n",
    "\n",
    "plt.figure(figsize=(10,7))\n",
    "ax = plt.subplot(111)\n",
    "extent=[x.min(),x.max(), y.min(), y.max()]\n",
    "ax.set_title('Non interpolated magnetic field')\n",
    "im = ax.imshow(img.T, interpolation='none', aspect='auto',\n",
    "           vmin=vmin, vmax=vmax, cmap='viridis',\n",
    "           extent=extent)\n",
    "plt.colorbar(im, shrink=0.75, label='magnetic anomaly (nT)')\n",
    "plt.ylim(plt.ylim()[::-1])\n",
    "ax.set_aspect('equal', 'datalim')\n",
    "\n",
    "plt.xlabel('easting (m)')\n",
    "plt.xlabel('northing (m)')\n",
    "plt.tight_layout();"
   ]
  },
  {
   "cell_type": "markdown",
   "metadata": {},
   "source": [
    "Note: Some pixels appear missing due to the image size on the plot"
   ]
  },
  {
   "cell_type": "markdown",
   "metadata": {},
   "source": [
    "## Linear 2D interpolation"
   ]
  },
  {
   "cell_type": "code",
   "execution_count": null,
   "metadata": {},
   "outputs": [],
   "source": [
    "from scipy.interpolate import LinearNDInterpolator"
   ]
  },
  {
   "cell_type": "code",
   "execution_count": null,
   "metadata": {},
   "outputs": [],
   "source": [
    "%%time\n",
    "\n",
    "# I'll use a linear interpolator with Delaunay triangulation\n",
    "linear_interpolator = LinearNDInterpolator((data['x'], data['y']), data['data'], fill_value=np.nan)"
   ]
  },
  {
   "cell_type": "code",
   "execution_count": null,
   "metadata": {},
   "outputs": [],
   "source": [
    "%%time\n",
    "# Coordinates for interpolation\n",
    "X, Y = np.meshgrid(x,y)\n",
    "\n",
    "interpolated = linear_interpolator(X,Y)"
   ]
  },
  {
   "cell_type": "code",
   "execution_count": null,
   "metadata": {},
   "outputs": [],
   "source": [
    "def create_mask(row):\n",
    "    retval = np.full(row.shape, True)\n",
    "    \n",
    "    i =  np.where(~np.isnan(row))[0]\n",
    "    n = len(i)\n",
    "    \n",
    "    if n == 0:\n",
    "        return retval\n",
    "    \n",
    "    elif n == 1:\n",
    "        retval[i[0]] = False\n",
    "        return retval\n",
    "    \n",
    "    elif n >= 2:\n",
    "        retval[i[0]:i[-1]] = False\n",
    "        return retval\n",
    "    \n",
    "mask = np.array([create_mask(col) for col in img.T])\n",
    "mask = np.logical_or(mask, np.isnan(interpolated))\n",
    "\n",
    "plt.figure(figsize=(10,7))\n",
    "ax = plt.subplot(111)\n",
    "extent=[x.min(),x.max(), y.min(), y.max()]\n",
    "ax.set_title('Final interpolation mask')\n",
    "im = ax.imshow(mask.astype(np.int), interpolation='none', aspect='auto',\n",
    "               extent=extent)\n",
    "plt.colorbar(im, shrink=0.75)\n",
    "plt.ylim(plt.ylim()[::-1])\n",
    "ax.set_aspect('equal', 'datalim')\n",
    "plt.xlabel('easting (m)')\n",
    "plt.xlabel('northing (m)')\n",
    "plt.tight_layout();"
   ]
  },
  {
   "cell_type": "code",
   "execution_count": null,
   "metadata": {},
   "outputs": [],
   "source": [
    "# Masked final linear interpolated magnetic field\n",
    "final = np.ma.array(interpolated, mask=mask)"
   ]
  },
  {
   "cell_type": "code",
   "execution_count": null,
   "metadata": {},
   "outputs": [],
   "source": [
    "from matplotlib.colors import LightSource"
   ]
  },
  {
   "cell_type": "code",
   "execution_count": null,
   "metadata": {},
   "outputs": [],
   "source": [
    "# Cell size in meters\n",
    "dx, dy = np.mean(np.diff(x)), np.mean(np.diff(y))\n",
    "dx, dy"
   ]
  },
  {
   "cell_type": "code",
   "execution_count": null,
   "metadata": {},
   "outputs": [],
   "source": [
    "def plot_hillshaded_image(image, vert_exag=20, blend_mode='soft',\n",
    "                          cmap=plt.cm.viridis, dx=dx, dy=dy,\n",
    "                          vmin=None, vmax=None, title=None, extent=extent,\n",
    "                          save_path=None):\n",
    "    \n",
    "    # Shade from the northwest, with the sun 45 degrees from horizontal\n",
    "    ls = LightSource(azdeg=30, altdeg=45)\n",
    "    cmap = cmap\n",
    "\n",
    "    fig = plt.figure(figsize=(10,7))\n",
    "    ax = plt.subplot(111)\n",
    "    \n",
    "    if title is not None:\n",
    "        ax.set_title(title)\n",
    "\n",
    "    rgb = ls.shade(final, cmap=cmap, blend_mode='soft', vert_exag=vert_exag,\n",
    "                   dx=dx, dy=dy, vmin=vmin, vmax=vmax)\n",
    "\n",
    "    # Use a proxy artist for the colorbar\n",
    "    im = ax.imshow(final, cmap=cmap, vmin=vmin, vmax=vmax)\n",
    "    im.remove()\n",
    "    fig.colorbar(im, shrink=0.75, label='magnetic anomaly (nT)')\n",
    "    ax.imshow(rgb, interpolation='none', aspect='auto',extent=extent)\n",
    "    \n",
    "    plt.ylim(plt.ylim()[::-1])\n",
    "    ax.set_aspect('equal', 'datalim')\n",
    "    plt.xlabel('easting (m)')\n",
    "    plt.ylabel('northing (m)')\n",
    "    plt.tight_layout()\n",
    "    \n",
    "    if save_path is not None:\n",
    "        plt.savefig(save_path, dpi=300)\n",
    "    plt.show()\n",
    "    plt.close();\n",
    "    \n",
    "plot_hillshaded_image(final, vmin=vmin, vmax=vmax, extent=extent, title='Linear interpolated magnetic anomaly',\n",
    "                     save_path='../reports/figures/1113_MAGIGRF.png')"
   ]
  },
  {
   "cell_type": "markdown",
   "metadata": {},
   "source": [
    "## Writing the final values to a GeoTiff"
   ]
  },
  {
   "cell_type": "code",
   "execution_count": null,
   "metadata": {},
   "outputs": [],
   "source": [
    "import rasterio\n",
    "from rasterio.transform import from_origin"
   ]
  },
  {
   "cell_type": "code",
   "execution_count": null,
   "metadata": {},
   "outputs": [],
   "source": [
    "transform = from_origin(x.min(), y.min(), dx, -dy)\n",
    "crs = rasterio.crs.CRS.from_epsg(32722)\n",
    "\n",
    "nodata = -99999 # No data value\n",
    "\n",
    "new_dataset = rasterio.open('../data/processed/1113_MAGIGRF.tif', 'w', driver='GTiff',\n",
    "                            height = final.shape[0], width = final.shape[1],\n",
    "                            count=1, dtype=str(final.dtype),\n",
    "                            crs=crs,\n",
    "                            transform=transform, nodata=nodata)"
   ]
  },
  {
   "cell_type": "code",
   "execution_count": null,
   "metadata": {},
   "outputs": [],
   "source": [
    "new_dataset.write(final.filled(nodata), 1)\n",
    "new_dataset.close()"
   ]
  }
 ],
 "metadata": {
  "kernelspec": {
   "display_name": "Python 3",
   "language": "python",
   "name": "python3"
  },
  "language_info": {
   "codemirror_mode": {
    "name": "ipython",
    "version": 3
   },
   "file_extension": ".py",
   "mimetype": "text/x-python",
   "name": "python",
   "nbconvert_exporter": "python",
   "pygments_lexer": "ipython3",
   "version": "3.7.3"
  }
 },
 "nbformat": 4,
 "nbformat_minor": 2
}
